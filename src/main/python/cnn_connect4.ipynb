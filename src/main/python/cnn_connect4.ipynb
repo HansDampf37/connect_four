{
 "nbformat": 4,
 "nbformat_minor": 0,
 "metadata": {
  "colab": {
   "provenance": [],
   "authorship_tag": "ABX9TyNNyApJ87bR8RIBRbCqvOyC",
   "include_colab_link": true
  },
  "kernelspec": {
   "name": "python3",
   "language": "python",
   "display_name": "Python 3 (ipykernel)"
  },
  "language_info": {
   "name": "python"
  }
 },
 "cells": [
  {
   "cell_type": "markdown",
   "source": [
    "# Connect 4 with CNNs\n",
    "This Notebook implements a CNN that will be playing connect 4. It will be trained on a dataset of moves. Each sample in this set will contain a __board__ as a 6x7-pixel image, a __current player__ as scalar and a __target column__ as one hot vector. The model will then be trained to predict the target column depending on a board and a current player. Following sections are contained:\n",
    "\n",
    "- **Building the Dataset**\n",
    "- **Building the Model**\n",
    "- **Training the Model**\n",
    "- **Testing the Model**"
   ],
   "metadata": {
    "collapsed": false
   }
  },
  {
   "cell_type": "markdown",
   "source": [
    "## **Building the Datasets**\n",
    "The samples are read from the file system and put into an Connect4Dataset. Each sample contains __board__, __current player__ and __target column__"
   ],
   "metadata": {
    "id": "fP06RjJIo1W0"
   }
  },
  {
   "cell_type": "code",
   "execution_count": 1,
   "outputs": [
    {
     "name": "stdout",
     "output_type": "stream",
     "text": [
      "Found 17044 samples\n"
     ]
    },
    {
     "data": {
      "text/plain": "<Figure size 640x480 with 9 Axes>",
      "image/png": "[encoded data removed]"
     },
     "metadata": {},
     "output_type": "display_data"
    }
   ],
   "source": [
    "import os\n",
    "\n",
    "import matplotlib.pyplot as plt\n",
    "import numpy as np\n",
    "import torch\n",
    "from PIL import Image\n",
    "from torch.utils.data import Dataset\n",
    "from torch.utils.data import Dataset, DataLoader\n",
    "from torchvision import transforms\n",
    "\n",
    "BATCH_SIZE = 10\n",
    "NUM_EPOCHS = 100  # Number of training epochs\n",
    "\n",
    "class C4Dataset(Dataset):\n",
    "    \"\"\"\n",
    "    The C4Dataset is responsible for retrieving labeled data from the fs.\n",
    "    \"\"\"\n",
    "    def __init__(self, root_dir, transform=None):\n",
    "        self.root_dir = root_dir\n",
    "        self.transform = transform\n",
    "        self.player_folders = {'black': 0, 'white': 1}\n",
    "        self.num_columns = 7\n",
    "\n",
    "        self.data = self.load_data()\n",
    "\n",
    "    def load_data(self):\n",
    "        \"\"\"\n",
    "        Retrieves the data from the fs. Images are stored by their path to save memory.\n",
    "        :return: the data \n",
    "        \"\"\"\n",
    "        data = []\n",
    "\n",
    "        for player, player_idx in self.player_folders.items():\n",
    "            player_dir = os.path.join(self.root_dir, player)\n",
    "\n",
    "            for target_column in range(0, self.num_columns):\n",
    "                column_dir = os.path.join(player_dir, str(target_column))\n",
    "                image_filenames = os.listdir(column_dir)\n",
    "\n",
    "                for image_filename in image_filenames:\n",
    "                    image_path = os.path.join(column_dir, image_filename)\n",
    "                    data.append((image_path, player_idx, torch.eye(self.num_columns)[target_column]))\n",
    "\n",
    "        return data\n",
    "\n",
    "    def __len__(self):\n",
    "        return len(self.data)\n",
    "\n",
    "    def __getitem__(self, idx):\n",
    "        \"\"\"\n",
    "        Only here are images finally opened\n",
    "        :param idx: idx of the sample\n",
    "        :return: the image, player and target_column\n",
    "        \"\"\"\n",
    "        image_path, player, target_column = self.data[idx]\n",
    "        image = Image.open(image_path).convert(\"RGB\")\n",
    "\n",
    "        if self.transform:\n",
    "            image = self.transform(image)\n",
    "\n",
    "        return image, player, target_column\n",
    "\n",
    "def build_dataset(root_dir, training_testing_ratio):\n",
    "    # Define your transformations\n",
    "    transform = transforms.Compose([\n",
    "        transforms.Resize((6, 7)),    # Resize the images to a consistent size (e.g., 64x64)\n",
    "        transforms.Grayscale(),       # Convert images to grayscale\n",
    "        transforms.ToTensor(),        # Convert images to PyTorch tensors\n",
    "    ])\n",
    "    \n",
    "    # Define your dataset\n",
    "    dataset = C4Dataset(root_dir, transform=transform)\n",
    "    print(f\"Found {len(dataset)} samples\")\n",
    "    \n",
    "    # split in test and training data\n",
    "    training_testing_size = (np.asarray(training_testing_ratio)[0:-1] * len(dataset)).astype(int)\n",
    "    training_testing_size = np.concatenate([training_testing_size, [int(len(dataset) - np.sum(training_testing_size))]])\n",
    "    sets = torch.utils.data.random_split(dataset, training_testing_size)\n",
    "    loaders = list(map(lambda s: DataLoader(s, batch_size=BATCH_SIZE, shuffle=True), sets))\n",
    "    return loaders\n",
    "    \n",
    "    # visualize some samples\n",
    "def show_loader_samples(loader):\n",
    "    for (board_batch, current_player_batch, column_batch) in loader:\n",
    "        for i in range(0, min(10, len(board_batch))):\n",
    "            plt.subplot(331 + i)\n",
    "            plt.xticks([])\n",
    "            plt.yticks([])\n",
    "            plt.title(f\"${['black', 'white'][current_player_batch[i]]}:${np.argmax(column_batch[i])}\")\n",
    "            arr = np.asarray(board_batch[i])\n",
    "            arr = arr.reshape(6, 7)\n",
    "            plt.imshow(arr, cmap='gray', vmin=0, vmax=1)\n",
    "            if i == 8:\n",
    "                return\n",
    "        plt.show()\n",
    "    \n",
    "training, testing = build_dataset(root_dir = \"c4set\", training_testing_ratio = [0.8, 0.2])\n",
    "show_loader_samples(training)"
   ],
   "metadata": {
    "collapsed": false,
    "ExecuteTime": {
     "end_time": "2023-08-11T22:42:56.872682225Z",
     "start_time": "2023-08-11T22:42:51.927178044Z"
    }
   }
  },
  {
   "cell_type": "markdown",
   "source": [
    "## **Building the Model**\n",
    "As model, we use a CNN. It operates on the image of the board and stacks multiple convolutional layers together to enable Pattern recognition.\n",
    "It is then followed by a seven layer dense neural network. The first vector of the dense neural network also receives the current player as second input. The produced output vector has length 7. It contains the estimated probabilities of putting the next token in the respective column being the best move."
   ],
   "metadata": {
    "id": "NSA3xb--nSkt"
   }
  },
  {
   "cell_type": "code",
   "source": [
    "import torch\n",
    "import torch.nn as nn\n",
    "import torch.nn.functional as F\n",
    "\n",
    "class Bot(torch.nn.Module):\n",
    "    def __init__(self):\n",
    "        super(Bot, self).__init__()\n",
    "\n",
    "        self.conv1 = nn.Conv2d(1, 20, (2, 2))\n",
    "        nn.init.xavier_normal_(self.conv1.weight)\n",
    "        self.conv2 = nn.Conv2d(20, 30, (2, 2))\n",
    "        nn.init.xavier_normal_(self.conv2.weight)\n",
    "        self.conv3 = nn.Conv2d(30, 40, (2, 2))\n",
    "        nn.init.xavier_normal_(self.conv3.weight)\n",
    "        self.conv4 = nn.Conv2d(40, 50, (2, 2))\n",
    "        nn.init.xavier_normal_(self.conv4.weight)\n",
    "        self.fc1 = nn.Linear(3 * 2 * 50 + 1, 42)\n",
    "        nn.init.xavier_normal_(self.fc1.weight)\n",
    "        self.fc2 = nn.Linear(42 + 1, 42)\n",
    "        nn.init.xavier_normal_(self.fc2.weight)\n",
    "        self.fc3 = nn.Linear(42 + 1, 42)\n",
    "        nn.init.xavier_normal_(self.fc3.weight)\n",
    "        self.fc4 = nn.Linear(42 + 1, 42)\n",
    "        nn.init.xavier_normal_(self.fc4.weight)\n",
    "        self.fc7 = nn.Linear(42 + 1, 7)\n",
    "        nn.init.xavier_normal_(self.fc7.weight)\n",
    "\n",
    "    def forward(self, board, current_player):\n",
    "        x = F.leaky_relu(self.conv1(board))\n",
    "        x = F.leaky_relu(self.conv2(x))\n",
    "        x = F.leaky_relu(self.conv3(x))\n",
    "        x = F.leaky_relu(self.conv4(x))\n",
    "        x = x.view(-1, 3 * 2 * 50)  # Flatten with batch dimension\n",
    "        player_info = current_player.unsqueeze(1).expand(-1, 1)  # Broadcast across batch\n",
    "        x = torch.cat((x, player_info), dim=1)\n",
    "        x = F.leaky_relu(self.fc1(x))\n",
    "        x = torch.cat((x, player_info), dim=1)\n",
    "        x = F.leaky_relu(self.fc2(x))\n",
    "        x = torch.cat((x, player_info), dim=1)\n",
    "        x = F.leaky_relu(self.fc3(x))\n",
    "        x = torch.cat((x, player_info), dim=1)\n",
    "        x = F.leaky_relu(self.fc4(x))\n",
    "        x = torch.cat((x, player_info), dim=1)\n",
    "        x = self.fc7(x)\n",
    "        return x"
   ],
   "metadata": {
    "colab": {
     "base_uri": "https://localhost:8080/"
    },
    "id": "DHU1K_Qc0b8j",
    "outputId": "b509b09d-1633-4623-cf95-92d9dd6dcdd9",
    "ExecuteTime": {
     "end_time": "2023-08-11T22:42:56.875867933Z",
     "start_time": "2023-08-11T22:42:56.865019697Z"
    }
   },
   "execution_count": 2,
   "outputs": []
  },
  {
   "cell_type": "markdown",
   "source": [
    "## **Training the Model**\n",
    "As loss function we use CrossEntropy and as Optimizer SGD."
   ],
   "metadata": {
    "id": "E_bOO2gapGdP"
   }
  },
  {
   "cell_type": "code",
   "source": [
    "from torch.optim.lr_scheduler import ExponentialLR\n",
    "\n",
    "def train(num_epochs):\n",
    "    bot = Bot()\n",
    "    binary_cross_entropy = nn.CrossEntropyLoss()\n",
    "    optimizer = torch.optim.SGD(bot.parameters(), lr=0.1)\n",
    "    scheduler = ExponentialLR(optimizer, gamma=0.9)\n",
    "\n",
    "    for epoch in range(num_epochs):\n",
    "        running_loss = 0.0\n",
    "        bot.train()  # Set the model to training mode\n",
    "\n",
    "        for batch_idx, (board_batch, player_batch, move_batch) in enumerate(training):\n",
    "            optimizer.zero_grad()\n",
    "            outputs = bot(board_batch, player_batch)\n",
    "            loss = binary_cross_entropy(outputs, move_batch)\n",
    "            loss.backward()\n",
    "            optimizer.step()\n",
    "            running_loss += loss.item()\n",
    "\n",
    "        scheduler.step()\n",
    "        print(f\"epoch {epoch} --- loss: {running_loss / len(training)}\")\n",
    "\n",
    "    print(\"Training completed.\")\n",
    "    return bot\n",
    "\n",
    "\n",
    "def get_accuracy(bot, dataset):\n",
    "    bot.eval()\n",
    "    total = 0\n",
    "    correct = 0\n",
    "    for board_sample, current_player, best_move in dataset:\n",
    "        outputs = bot(board_sample, current_player)\n",
    "        predicted_indices = torch.argmax(outputs, dim=1)\n",
    "        labeled_indices = torch.argmax(best_move, dim=1)\n",
    "        total += best_move.size(0)\n",
    "        correct += (predicted_indices == labeled_indices).sum().item()\n",
    "    \n",
    "    bot.train()\n",
    "    return 100 * correct / total\n",
    "\n",
    "model = train(NUM_EPOCHS)"
   ],
   "metadata": {
    "colab": {
     "base_uri": "https://localhost:8080/"
    },
    "id": "4C19en_fp0wl",
    "outputId": "5fb9047d-d21c-46f4-d0e2-8ab00dae341d",
    "ExecuteTime": {
     "end_time": "2023-08-11T22:54:46.534627414Z",
     "start_time": "2023-08-11T22:42:56.871606963Z"
    }
   },
   "execution_count": 3,
   "outputs": [
    {
     "name": "stdout",
     "output_type": "stream",
     "text": [
      "epoch 0 --- loss: 1.8394981725824193\n",
      "epoch 1 --- loss: 1.7579422808986955\n",
      "epoch 2 --- loss: 1.7248895085277445\n",
      "epoch 3 --- loss: 1.6887551276914534\n",
      "epoch 4 --- loss: 1.6330104147321667\n",
      "epoch 5 --- loss: 1.6083730057624779\n",
      "epoch 6 --- loss: 1.594132923223406\n",
      "epoch 7 --- loss: 1.5755613752124595\n",
      "epoch 8 --- loss: 1.5575094825623672\n",
      "epoch 9 --- loss: 1.535697206199344\n",
      "epoch 10 --- loss: 1.5199176079629104\n",
      "epoch 11 --- loss: 1.5035462168392197\n",
      "epoch 12 --- loss: 1.4880870505511936\n",
      "epoch 13 --- loss: 1.4716677875462865\n",
      "epoch 14 --- loss: 1.4588446123771304\n",
      "epoch 15 --- loss: 1.4423724595140501\n",
      "epoch 16 --- loss: 1.4278990036406476\n",
      "epoch 17 --- loss: 1.4111805532859567\n",
      "epoch 18 --- loss: 1.3921161590258746\n",
      "epoch 19 --- loss: 1.3774653854957424\n",
      "epoch 20 --- loss: 1.3595909131936663\n",
      "epoch 21 --- loss: 1.3428045617432889\n",
      "epoch 22 --- loss: 1.3252403093747729\n",
      "epoch 23 --- loss: 1.3074279888109728\n",
      "epoch 24 --- loss: 1.293367106281767\n",
      "epoch 25 --- loss: 1.273969777780544\n",
      "epoch 26 --- loss: 1.2600217417450594\n",
      "epoch 27 --- loss: 1.2445123305986703\n",
      "epoch 28 --- loss: 1.228998208194534\n",
      "epoch 29 --- loss: 1.2153484227895037\n",
      "epoch 30 --- loss: 1.203084290704944\n",
      "epoch 31 --- loss: 1.1902420149782886\n",
      "epoch 32 --- loss: 1.1772059889351867\n",
      "epoch 33 --- loss: 1.1655270883545847\n",
      "epoch 34 --- loss: 1.154493235991148\n",
      "epoch 35 --- loss: 1.1454560428835954\n",
      "epoch 36 --- loss: 1.1357304351376998\n",
      "epoch 37 --- loss: 1.1270482045464503\n",
      "epoch 38 --- loss: 1.1184638665000364\n",
      "epoch 39 --- loss: 1.1089893060782787\n",
      "epoch 40 --- loss: 1.1023004073595022\n",
      "epoch 41 --- loss: 1.0963305579252607\n",
      "epoch 42 --- loss: 1.0894787652620121\n",
      "epoch 43 --- loss: 1.0838504983795003\n",
      "epoch 44 --- loss: 1.0785317103927436\n",
      "epoch 45 --- loss: 1.073767450395043\n",
      "epoch 46 --- loss: 1.068869305386746\n",
      "epoch 47 --- loss: 1.0648992880304888\n",
      "epoch 48 --- loss: 1.0610291711177644\n",
      "epoch 49 --- loss: 1.057960953585301\n",
      "epoch 50 --- loss: 1.0544275609104514\n",
      "epoch 51 --- loss: 1.0515576814276733\n",
      "epoch 52 --- loss: 1.0492263220447249\n",
      "epoch 53 --- loss: 1.047126160295478\n",
      "epoch 54 --- loss: 1.0447210729821337\n",
      "epoch 55 --- loss: 1.0424495763705273\n",
      "epoch 56 --- loss: 1.0408484920903036\n",
      "epoch 57 --- loss: 1.0394371721860776\n",
      "epoch 58 --- loss: 1.0379937048400603\n",
      "epoch 59 --- loss: 1.0364189703356137\n",
      "epoch 60 --- loss: 1.0354338286996236\n",
      "epoch 61 --- loss: 1.034422668259689\n",
      "epoch 62 --- loss: 1.0335548843456503\n",
      "epoch 63 --- loss: 1.0325245988334029\n",
      "epoch 64 --- loss: 1.0315415761337952\n",
      "epoch 65 --- loss: 1.0306859171657095\n",
      "epoch 66 --- loss: 1.0301697754746308\n",
      "epoch 67 --- loss: 1.0296258256713315\n",
      "epoch 68 --- loss: 1.0290257747440743\n",
      "epoch 69 --- loss: 1.0284656717324536\n",
      "epoch 70 --- loss: 1.0279808686144891\n",
      "epoch 71 --- loss: 1.0275698266158706\n",
      "epoch 72 --- loss: 1.027213648944831\n",
      "epoch 73 --- loss: 1.0268335001778044\n",
      "epoch 74 --- loss: 1.026431974012656\n",
      "epoch 75 --- loss: 1.0263518746778413\n",
      "epoch 76 --- loss: 1.0259085928371225\n",
      "epoch 77 --- loss: 1.0260316309385287\n",
      "epoch 78 --- loss: 1.0255167452602092\n",
      "epoch 79 --- loss: 1.0255371702075704\n",
      "epoch 80 --- loss: 1.0252969845080655\n",
      "epoch 81 --- loss: 1.0252394661351034\n",
      "epoch 82 --- loss: 1.0251915197699302\n",
      "epoch 83 --- loss: 1.025022424386044\n",
      "epoch 84 --- loss: 1.0247419514308227\n",
      "epoch 85 --- loss: 1.024522431893957\n",
      "epoch 86 --- loss: 1.0248527683951287\n",
      "epoch 87 --- loss: 1.024501909652064\n",
      "epoch 88 --- loss: 1.024189774875592\n",
      "epoch 89 --- loss: 1.024299256088447\n",
      "epoch 90 --- loss: 1.0241856731234058\n",
      "epoch 91 --- loss: 1.0242984219293092\n",
      "epoch 92 --- loss: 1.0242645886134019\n",
      "epoch 93 --- loss: 1.0242289680976673\n",
      "epoch 94 --- loss: 1.0241611998888753\n",
      "epoch 95 --- loss: 1.0240781440063655\n",
      "epoch 96 --- loss: 1.0240522287239777\n",
      "epoch 97 --- loss: 1.0243371271492798\n",
      "epoch 98 --- loss: 1.0237796354241384\n",
      "epoch 99 --- loss: 1.0241712694250245\n",
      "Training completed.\n"
     ]
    }
   ]
  },
  {
   "cell_type": "markdown",
   "source": [
    "## **Testing the Model**\n",
    "We give the model the test subset and calculate the accuracy.\n"
   ],
   "metadata": {
    "id": "Z09qSt_JrimV"
   }
  },
  {
   "cell_type": "code",
   "source": [
    "test_acc = get_accuracy(model, testing)\n",
    "print(f\"Accuracy on the test set: {test_acc:.2f}%\")\n",
    "\n",
    "training_acc = get_accuracy(model, training)\n",
    "print(f\"Accuracy on the training set: {training_acc:.2f}%\")\n",
    "\n",
    "# test the models ability on selecting game winning moves (this should ideally be close to 100%)\n",
    "test_winning_moves = build_dataset(\"winningMoves\", [1])[0]\n",
    "winning_moves_acc = get_accuracy(model, test_winning_moves)\n",
    "print(f\"Accuracy on the winning moves: {winning_moves_acc:.2f}%\")\n",
    "\n",
    "torch.jit.script(model).save(\"ricardo.pt\")"
   ],
   "metadata": {
    "colab": {
     "base_uri": "https://localhost:8080/"
    },
    "id": "654KP70Ur616",
    "outputId": "8d256503-0ffa-4b3f-8d70-1992e723aa38",
    "ExecuteTime": {
     "end_time": "2023-08-11T22:54:57.514782732Z",
     "start_time": "2023-08-11T22:54:46.537702659Z"
    }
   },
   "execution_count": 4,
   "outputs": [
    {
     "name": "stdout",
     "output_type": "stream",
     "text": [
      "Accuracy on the test set: 44.85%\n",
      "Accuracy on the training set: 60.29%\n",
      "Found 136 samples\n",
      "Accuracy on the winning moves: 62.50%\n"
     ]
    }
   ]
  }
 ]
}

{
 "nbformat": 4,
 "nbformat_minor": 0,
 "metadata": {
  "colab": {
   "provenance": [],
   "authorship_tag": "ABX9TyNNyApJ87bR8RIBRbCqvOyC",
   "include_colab_link": true
  },
  "kernelspec": {
   "name": "python3",
   "language": "python",
   "display_name": "Python 3 (ipykernel)"
  },
  "language_info": {
   "name": "python"
  }
 },
 "cells": [
  {
   "cell_type": "markdown",
   "source": [
    "# Connect 4 with CNNs\n",
    "This Notebook implements a CNN that will be playing connect 4. It will be trained on a dataset of moves. Each sample in this set will contain a __board__ as a 6x7-pixel image, a __current player__ as scalar and a __target column__ as one hot vector. The model will then be trained to predict the target column depending on a board and a current player. Following sections are contained:\n",
    "\n",
    "- **Building the Dataset**\n",
    "- **Building the Model**\n",
    "- **Training the Model**\n",
    "- **Testing the Model**"
   ],
   "metadata": {
    "collapsed": false
   }
  },
  {
   "cell_type": "markdown",
   "source": [
    "## **Building the Datasets**\n",
    "The samples are read from the file system and put into an Connect4Dataset. Each sample contains __board__, __current player__ and __target column__"
   ],
   "metadata": {
    "id": "fP06RjJIo1W0"
   }
  },
  {
   "cell_type": "code",
   "execution_count": 152,
   "outputs": [
    {
     "name": "stdout",
     "output_type": "stream",
     "text": [
      "Found 12756 samples\n"
     ]
    },
    {
     "data": {
      "text/plain": "<Figure size 640x480 with 9 Axes>",
      "image/png": "[encoded data removed]"
     },
     "metadata": {},
     "output_type": "display_data"
    }
   ],
   "source": [
    "import os\n",
    "\n",
    "import matplotlib.pyplot as plt\n",
    "import numpy as np\n",
    "from PIL import Image\n",
    "from torch.utils.data import Dataset\n",
    "from torch.utils.data import Dataset, DataLoader\n",
    "from torchvision import transforms\n",
    "\n",
    "BATCH_SIZE = 10\n",
    "NUM_EPOCHS = 30  # Number of training epochs\n",
    "\n",
    "class C4Dataset(Dataset):\n",
    "    \"\"\"\n",
    "    The C4Dataset is responsible for retrieving labeled data from the fs.\n",
    "    \"\"\"\n",
    "    def __init__(self, root_dir, transform=None):\n",
    "        self.root_dir = root_dir\n",
    "        self.transform = transform\n",
    "        self.player_folders = {'black': 0, 'white': 1}\n",
    "        self.num_columns = 7\n",
    "\n",
    "        self.data = self.load_data()\n",
    "\n",
    "    def load_data(self):\n",
    "        \"\"\"\n",
    "        Retrieves the data from the fs. Images are stored by their path to save memory.\n",
    "        :return: the data \n",
    "        \"\"\"\n",
    "        data = []\n",
    "\n",
    "        for player, player_idx in self.player_folders.items():\n",
    "            player_dir = os.path.join(self.root_dir, player)\n",
    "\n",
    "            for target_column in range(0, self.num_columns):\n",
    "                column_dir = os.path.join(player_dir, str(target_column))\n",
    "                image_filenames = os.listdir(column_dir)\n",
    "\n",
    "                for image_filename in image_filenames:\n",
    "                    image_path = os.path.join(column_dir, image_filename)\n",
    "                    data.append((image_path, player_idx, torch.eye(self.num_columns)[target_column]))\n",
    "\n",
    "        return data\n",
    "\n",
    "    def __len__(self):\n",
    "        return len(self.data)\n",
    "\n",
    "    def __getitem__(self, idx):\n",
    "        \"\"\"\n",
    "        Only here are images finally opened\n",
    "        :param idx: idx of the sample\n",
    "        :return: the image, player and target_column\n",
    "        \"\"\"\n",
    "        image_path, player, target_column = self.data[idx]\n",
    "        image = Image.open(image_path).convert(\"RGB\")\n",
    "\n",
    "        if self.transform:\n",
    "            image = self.transform(image)\n",
    "\n",
    "        return image, player, target_column\n",
    "\n",
    "def build_dataset(root_dir):\n",
    "    # Define your transformations\n",
    "    transform = transforms.Compose([\n",
    "        transforms.Resize((6, 7)),    # Resize the images to a consistent size (e.g., 64x64)\n",
    "        transforms.Grayscale(),       # Convert images to grayscale\n",
    "        transforms.ToTensor(),        # Convert images to PyTorch tensors\n",
    "    ])\n",
    "    \n",
    "    # Define your dataset\n",
    "    dataset = C4Dataset(root_dir, transform=transform)\n",
    "    print(f\"Found {len(dataset)} samples\")\n",
    "    \n",
    "    # split in test and training data\n",
    "    train_size = int(0.8 * len(dataset))  # 80% for training\n",
    "    test_size = int(len(dataset) - train_size)  # 20% for testing\n",
    "    train_dataset, test_dataset = torch.utils.data.random_split(dataset, [train_size, test_size])\n",
    "    train_loader = DataLoader(train_dataset, batch_size=BATCH_SIZE, shuffle=True)\n",
    "    test_loader = DataLoader(test_dataset, batch_size=BATCH_SIZE, shuffle=True)\n",
    "    \n",
    "    # visualize some samples\n",
    "    for (board_batch, current_player_batch, column_batch) in train_loader:\n",
    "        for i in range(0, min(10, len(board_batch))):\n",
    "            plt.subplot(331 + i)\n",
    "            plt.xticks([])\n",
    "            plt.yticks([])\n",
    "            plt.title(f\"${['black', 'white'][current_player_batch[i]]}:${np.argmax(column_batch[i])}\")\n",
    "            arr = np.asarray(board_batch[i])\n",
    "            arr = arr.reshape(6, 7)\n",
    "            plt.imshow(arr, cmap='gray', vmin=0, vmax=1)\n",
    "            if i == 8:\n",
    "                return train_loader, test_loader\n",
    "        plt.show()\n",
    "    \n",
    "    return train_loader, test_loader\n",
    "\n",
    "training, testing = build_dataset(root_dir = \"c4set\")"
   ],
   "metadata": {
    "collapsed": false,
    "ExecuteTime": {
     "end_time": "2023-08-10T22:26:55.966788976Z",
     "start_time": "2023-08-10T22:26:55.520851595Z"
    }
   }
  },
  {
   "cell_type": "markdown",
   "source": [
    "## **Building the Model**\n",
    "As model, we use a CNN. It operates on the image of the board and stacks multiple convolutional layers together to enable Pattern recognition.\n",
    "It is then followed by a seven layer dense neural network. The first vector of the dense neural network also receives the current player as second input. The produced output vector has length 7. It contains the estimated probabilities of putting the next token in the respective column being the best move."
   ],
   "metadata": {
    "id": "NSA3xb--nSkt"
   }
  },
  {
   "cell_type": "code",
   "source": [
    "import torch\n",
    "import torch.nn as nn\n",
    "import torch.nn.functional as F\n",
    "\n",
    "class Bot(torch.nn.Module):\n",
    "    def __init__(self):\n",
    "        super(Bot, self).__init__()\n",
    "\n",
    "        self.conv1 = nn.Conv2d(1, 20, (2, 2))\n",
    "        self.conv2 = nn.Conv2d(20, 30, (2, 2))\n",
    "        self.conv3 = nn.Conv2d(30, 40, (2, 2))\n",
    "        self.conv4 = nn.Conv2d(40, 50, (2, 2))\n",
    "        self.fc1 = nn.Linear(3 * 2 * 50 + 1, 42)\n",
    "        self.fc2 = nn.Linear(42 + 1, 42)\n",
    "        self.fc3 = nn.Linear(42 + 1, 42)\n",
    "        self.fc4 = nn.Linear(42 + 1, 42)\n",
    "        self.fc7 = nn.Linear(42 + 1, 7)\n",
    "\n",
    "    def forward(self, board, current_player):\n",
    "        x = F.leaky_relu(self.conv1(board))\n",
    "        x = F.leaky_relu(self.conv2(x))\n",
    "        x = F.leaky_relu(self.conv3(x))\n",
    "        x = F.leaky_relu(self.conv4(x))\n",
    "        x = x.view(-1, 3 * 2 * 50)  # Flatten with batch dimension\n",
    "        player_info = current_player.unsqueeze(1).expand(-1, 1)  # Broadcast across batch\n",
    "        x = torch.cat((x, player_info), dim=1)\n",
    "        x = F.leaky_relu(self.fc1(x))\n",
    "        x = torch.cat((x, player_info), dim=1)\n",
    "        x = F.leaky_relu(self.fc2(x))\n",
    "        x = torch.cat((x, player_info), dim=1)\n",
    "        x = F.leaky_relu(self.fc3(x))\n",
    "        x = torch.cat((x, player_info), dim=1)\n",
    "        x = F.leaky_relu(self.fc4(x))\n",
    "        x = torch.cat((x, player_info), dim=1)\n",
    "        x = self.fc7(x)\n",
    "        return x"
   ],
   "metadata": {
    "colab": {
     "base_uri": "https://localhost:8080/"
    },
    "id": "DHU1K_Qc0b8j",
    "outputId": "b509b09d-1633-4623-cf95-92d9dd6dcdd9",
    "ExecuteTime": {
     "end_time": "2023-08-10T22:26:57.651696639Z",
     "start_time": "2023-08-10T22:26:57.638591017Z"
    }
   },
   "execution_count": 153,
   "outputs": []
  },
  {
   "cell_type": "markdown",
   "source": [
    "## **Training the Model**\n",
    "As loss function we use CrossEntropy and as Optimizer SGD."
   ],
   "metadata": {
    "id": "E_bOO2gapGdP"
   }
  },
  {
   "cell_type": "code",
   "source": [
    "from torch.optim.lr_scheduler import ExponentialLR\n",
    "\n",
    "def train(num_epochs):\n",
    "    bot = Bot()\n",
    "    binary_cross_entropy = nn.CrossEntropyLoss()\n",
    "    optimizer = torch.optim.SGD(bot.parameters(), lr=0.1)\n",
    "    scheduler = ExponentialLR(optimizer, gamma=0.9)\n",
    "\n",
    "    for epoch in range(num_epochs):\n",
    "        running_loss = 0.0\n",
    "        bot.train()  # Set the model to training mode\n",
    "\n",
    "        for batch_idx, (board_batch, player_batch, move_batch) in enumerate(training):\n",
    "            optimizer.zero_grad()\n",
    "            outputs = bot(board_batch, player_batch)\n",
    "            loss = binary_cross_entropy(outputs, move_batch)\n",
    "            loss.backward()\n",
    "            optimizer.step()\n",
    "            running_loss += loss.item()\n",
    "\n",
    "        scheduler.step()\n",
    "        print(f\"epoch {epoch} --- loss: {running_loss / len(training)}\")\n",
    "\n",
    "    print(\"Training completed.\")\n",
    "    return bot\n",
    "\n",
    "\n",
    "def get_accuracy(bot, dataset):\n",
    "    bot.eval()\n",
    "    total = 0\n",
    "    correct = 0\n",
    "    for board_sample, current_player, best_move in dataset:\n",
    "        outputs = bot(board_sample, current_player)\n",
    "        predicted_indices = torch.argmax(outputs, dim=1)\n",
    "        labeled_indices = torch.argmax(best_move, dim=1)\n",
    "        total += best_move.size(0)\n",
    "        correct += (predicted_indices == labeled_indices).sum().item()\n",
    "    \n",
    "    bot.train()\n",
    "    return 100 * correct / total\n",
    "\n",
    "model = train(NUM_EPOCHS)"
   ],
   "metadata": {
    "colab": {
     "base_uri": "https://localhost:8080/"
    },
    "id": "4C19en_fp0wl",
    "outputId": "5fb9047d-d21c-46f4-d0e2-8ab00dae341d",
    "ExecuteTime": {
     "end_time": "2023-08-10T22:29:41.386978840Z",
     "start_time": "2023-08-10T22:26:58.506343603Z"
    }
   },
   "execution_count": 154,
   "outputs": [
    {
     "name": "stdout",
     "output_type": "stream",
     "text": [
      "epoch 0 --- loss: 1.9404184778570313\n",
      "epoch 1 --- loss: 1.9400328157230642\n",
      "epoch 2 --- loss: 1.9395191955519704\n",
      "epoch 3 --- loss: 1.9384748375264018\n",
      "epoch 4 --- loss: 1.9383808986213602\n",
      "epoch 5 --- loss: 1.9385678846385406\n",
      "epoch 6 --- loss: 1.9382506669676853\n",
      "epoch 7 --- loss: 1.9379214908887543\n",
      "epoch 8 --- loss: 1.9377962984837935\n",
      "epoch 9 --- loss: 1.9377707482318336\n",
      "epoch 10 --- loss: 1.9370396008804427\n",
      "epoch 11 --- loss: 1.9377319690179404\n",
      "epoch 12 --- loss: 1.9372273241037485\n",
      "epoch 13 --- loss: 1.9371390628767995\n",
      "epoch 14 --- loss: 1.9369234576398082\n",
      "epoch 15 --- loss: 1.9368979049359434\n",
      "epoch 16 --- loss: 1.9368917852143932\n",
      "epoch 17 --- loss: 1.9369797358666998\n",
      "epoch 18 --- loss: 1.9367459074874116\n",
      "epoch 19 --- loss: 1.9366750100684096\n",
      "epoch 20 --- loss: 1.936574156090515\n",
      "epoch 21 --- loss: 1.9365706700652867\n",
      "epoch 22 --- loss: 1.9365894446527105\n",
      "epoch 23 --- loss: 1.936481871520854\n",
      "epoch 24 --- loss: 1.936412590841355\n",
      "epoch 25 --- loss: 1.9363917436935993\n",
      "epoch 26 --- loss: 1.9364379860395082\n",
      "epoch 27 --- loss: 1.936425644433697\n",
      "epoch 28 --- loss: 1.936397491309365\n",
      "epoch 29 --- loss: 1.9363627955682363\n",
      "Training completed.\n"
     ]
    }
   ]
  },
  {
   "cell_type": "markdown",
   "source": [
    "## **Testing the Model**\n",
    "We give the model the test subset and calculate the accuracy.\n"
   ],
   "metadata": {
    "id": "Z09qSt_JrimV"
   }
  },
  {
   "cell_type": "code",
   "source": [
    "test_acc = get_accuracy(model, testing)\n",
    "print(f\"Accuracy on the test set: {test_acc:.2f}%\")\n",
    "\n",
    "training_acc = get_accuracy(model, training)\n",
    "print(f\"Accuracy on the training set: {training_acc:.2f}%\")"
   ],
   "metadata": {
    "colab": {
     "base_uri": "https://localhost:8080/"
    },
    "id": "654KP70Ur616",
    "outputId": "8d256503-0ffa-4b3f-8d70-1992e723aa38",
    "ExecuteTime": {
     "end_time": "2023-08-10T22:29:45.472588526Z",
     "start_time": "2023-08-10T22:29:41.383684074Z"
    }
   },
   "execution_count": 155,
   "outputs": [
    {
     "name": "stdout",
     "output_type": "stream",
     "text": [
      "Accuracy on the test set: 17.67%\n",
      "Accuracy on the training set: 18.55%\n"
     ]
    }
   ]
  }
 ]
}

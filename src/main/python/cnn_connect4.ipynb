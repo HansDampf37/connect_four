{
 "nbformat": 4,
 "nbformat_minor": 0,
 "metadata": {
  "colab": {
   "provenance": [],
   "authorship_tag": "ABX9TyNNyApJ87bR8RIBRbCqvOyC",
   "include_colab_link": true
  },
  "kernelspec": {
   "name": "python3",
   "language": "python",
   "display_name": "Python 3 (ipykernel)"
  },
  "language_info": {
   "name": "python"
  }
 },
 "cells": [
  {
   "cell_type": "markdown",
   "metadata": {
    "id": "view-in-github",
    "colab_type": "text"
   },
   "source": []
  },
  {
   "cell_type": "markdown",
   "source": [
    "## **Connect4Dataset**\n",
    "The Connect4Dataset is an implementation of the Dataset object and supposed to contain the positions including the __board__, __current player__ and __target column__ for each sample."
   ],
   "metadata": {
    "id": "8-naE-bXoyeG"
   }
  },
  {
   "cell_type": "code",
   "source": [
    "from torch.utils.data import Dataset\n",
    "\n",
    "class Connect4Dataset(Dataset):\n",
    "    def __init__(self, board_data, player_data, label_data, transform=None):\n",
    "        self.board_data = board_data\n",
    "        self.player_data = player_data\n",
    "        self.label_data = label_data\n",
    "        self.transform = transform\n",
    "\n",
    "    def __len__(self):\n",
    "        return len(self.board_data)\n",
    "\n",
    "    def __getitem__(self, index):\n",
    "        board = self.board_data[index]\n",
    "        player = self.player_data[index]\n",
    "        label = self.label_data[index]\n",
    "\n",
    "        # Apply the transform (if any) to the board\n",
    "        if self.transform is not None:\n",
    "            board = self.transform(board)\n",
    "\n",
    "        return board, player, label\n",
    "\n",
    "    def add(self, board, player, column):\n",
    "        self.board_data.append(board)\n",
    "        self.player_data.append(player)\n",
    "        self.label_data.append(column)\n"
   ],
   "metadata": {
    "id": "PR5Rd5XC9GMs",
    "ExecuteTime": {
     "end_time": "2023-08-10T19:24:15.313373137Z",
     "start_time": "2023-08-10T19:24:15.219035182Z"
    }
   },
   "execution_count": 8,
   "outputs": []
  },
  {
   "cell_type": "markdown",
   "source": [
    "## **Building the Datasets**\n",
    "The samples are read from the file system and put into an Connect4Dataset."
   ],
   "metadata": {
    "id": "fP06RjJIo1W0"
   }
  },
  {
   "cell_type": "code",
   "execution_count": 13,
   "metadata": {
    "id": "BjtM_ml9yYw0",
    "ExecuteTime": {
     "end_time": "2023-08-10T19:25:34.816568783Z",
     "start_time": "2023-08-10T19:25:32.466088859Z"
    }
   },
   "outputs": [
    {
     "name": "stdout",
     "output_type": "stream",
     "text": [
      "tensor([1])\n",
      "tensor([[1., 0., 0., 0., 0., 0., 0.]])\n",
      "tensor([0])\n",
      "tensor([[0., 0., 0., 0., 0., 0., 1.]])\n",
      "tensor([0])\n",
      "tensor([[1., 0., 0., 0., 0., 0., 0.]])\n",
      "tensor([1])\n",
      "tensor([[0., 0., 0., 0., 0., 0., 1.]])\n",
      "tensor([1])\n",
      "tensor([[0., 0., 1., 0., 0., 0., 0.]])\n",
      "tensor([1])\n",
      "tensor([[0., 0., 1., 0., 0., 0., 0.]])\n",
      "tensor([1])\n",
      "tensor([[0., 0., 0., 0., 1., 0., 0.]])\n",
      "tensor([1])\n",
      "tensor([[0., 0., 0., 0., 1., 0., 0.]])\n",
      "tensor([0])\n",
      "tensor([[0., 0., 0., 0., 0., 1., 0.]])\n"
     ]
    },
    {
     "data": {
      "text/plain": "<Figure size 640x480 with 9 Axes>",
      "image/png": "[encoded data removed]"
     },
     "metadata": {},
     "output_type": "display_data"
    }
   ],
   "source": [
    "from torch.utils.data import DataLoader\n",
    "import numpy as np\n",
    "import matplotlib.pyplot as plt\n",
    "import torchvision.transforms as transforms\n",
    "from torchvision.datasets import ImageFolder\n",
    "\n",
    "BATCH_SIZE = 1\n",
    "NUM_EPOCHS = 10  # Number of training epochs\n",
    "\n",
    "def build_dataset(positions_white, positions_black, num_columns = 7):\n",
    "    data_transforms = transforms.Compose([\n",
    "        transforms.Resize((6, 7)),  # Resize the images to a consistent size (e.g., 64x64)\n",
    "        transforms.Grayscale(),       # Convert images to grayscale\n",
    "        transforms.ToTensor(),        # Convert images to PyTorch tensors\n",
    "    ])\n",
    "    \n",
    "    dataset_white = ImageFolder(positions_white, transform=data_transforms)\n",
    "    dataset_black = ImageFolder(positions_black, transform=data_transforms)\n",
    "    dataset = Connect4Dataset([], [], [])\n",
    "    for i in range(len(dataset_white)):\n",
    "        board, column = dataset_white[i]\n",
    "        dataset.add(board, 1, torch.eye(num_columns)[column - 1])\n",
    "    for i in range(len(dataset_black)):\n",
    "        board, column = dataset_black[i]\n",
    "        dataset.add(board, 0, torch.eye(num_columns)[column - 1])\n",
    "    \n",
    "    train_size = int(0.6 * len(dataset))  # 60% for training\n",
    "    test_size = int(0.2 * len(dataset))  # 20% for testing\n",
    "    val_size = len(dataset) - train_size - test_size  # 20% for validation\n",
    "    train_dataset, test_dataset, validation_dataset = torch.utils.data.random_split(dataset, [train_size, test_size, val_size])\n",
    "    \n",
    "    # Create data loaders for training and testing\n",
    "    train_loader = DataLoader(train_dataset, batch_size=BATCH_SIZE, shuffle=True)\n",
    "    test_loader = DataLoader(test_dataset, batch_size=BATCH_SIZE, shuffle=True)\n",
    "    validation_loader = DataLoader(validation_dataset, batch_size=BATCH_SIZE, shuffle=True)\n",
    "    for i, (board, current_player, column) in enumerate(train_loader):\n",
    "        plt.subplot(331 + i)\n",
    "        plt.xticks([])\n",
    "        plt.yticks([])\n",
    "        print(current_player)\n",
    "        print(column)\n",
    "        plt.title(f\"${['black', 'white'][current_player]}:${np.argmax(column) + 1}\")\n",
    "        arr = np.asarray(board)\n",
    "        arr = arr.reshape(6, 7)\n",
    "        plt.imshow(arr, cmap='gray', vmin=0, vmax=1)\n",
    "        if i == 8:\n",
    "            break\n",
    "    plt.show()\n",
    "    return train_loader, test_loader, validation_loader\n",
    "\n",
    "training, testing, validation = build_dataset('connect4/white', 'connect4/black')"
   ]
  },
  {
   "cell_type": "markdown",
   "source": [
    "## **Model**\n",
    "As model, we use a CNN. It operates on the image of the board and stacks multiple convolutional layers together to enable Pattern recognition.\n",
    "It is then followed by a four layer dense neural network. The first vector of the dense neural network also receives the current player as second input. The produced output vector has length 7. It contains the estimated probabilities of putting the next token in the respective column being the best move."
   ],
   "metadata": {
    "id": "NSA3xb--nSkt"
   }
  },
  {
   "cell_type": "code",
   "source": [
    "import torch\n",
    "import torch.nn as nn\n",
    "import torch.nn.functional as F\n",
    "\n",
    "class Bot(torch.nn.Module):\n",
    "\n",
    "    def __init__(self):\n",
    "        super(Bot, self).__init__()\n",
    "\n",
    "        self.conv1 = nn.Conv2d(1, 100, (2, 2))\n",
    "        #self.pool1 = nn.MaxPool2d(2, 2)\n",
    "        self.conv2 = nn.Conv2d(100, 200, (2, 2))\n",
    "        #self.pool2 = nn.MaxPool2d(2, 2)\n",
    "        self.conv3 = nn.Conv2d(200, 300, (2, 2))\n",
    "        #self.pool3 = nn.MaxPool2d(2, 2)\n",
    "        self.conv4 = nn.Conv2d(300, 400, (2, 2))\n",
    "        #self.pool4 = nn.MaxPool2d(2, 2)\n",
    "        self.fc1 = nn.Linear(3 * 2 * 400 + 1, 42)\n",
    "        self.fc2 = nn.Linear(42, 42)\n",
    "        self.fc3 = nn.Linear(42, 42)\n",
    "        self.fc4 = nn.Linear(42, 42)\n",
    "        self.fc5 = nn.Linear(42, 42)\n",
    "        self.fc6 = nn.Linear(42, 42)\n",
    "        self.fc7 = nn.Linear(42, 7)\n",
    "        print(self)\n",
    "\n",
    "\n",
    "    def forward(self, board, current_player):\n",
    "        x = F.relu(self.conv1(board))\n",
    "        x = F.relu(self.conv2(x))\n",
    "        x = F.relu(self.conv3(x))\n",
    "        x = F.relu(self.conv4(x))\n",
    "        x = torch.flatten(x, 1)\n",
    "        x = torch.cat((x, current_player.unsqueeze(1)), dim=1)\n",
    "        x = F.relu(self.fc1(x))\n",
    "        x = F.relu(self.fc2(x))\n",
    "        x = F.relu(self.fc3(x))\n",
    "        x = F.relu(self.fc4(x))\n",
    "        x = F.relu(self.fc5(x))\n",
    "        x = F.relu(self.fc6(x))\n",
    "        x = self.fc7(x)\n",
    "        return x"
   ],
   "metadata": {
    "colab": {
     "base_uri": "https://localhost:8080/"
    },
    "id": "DHU1K_Qc0b8j",
    "outputId": "b509b09d-1633-4623-cf95-92d9dd6dcdd9",
    "ExecuteTime": {
     "start_time": "2023-08-10T19:24:17.275051665Z"
    }
   },
   "execution_count": null,
   "outputs": []
  },
  {
   "cell_type": "markdown",
   "source": [
    "## **Training the model**\n",
    "As loss function we use CrossEntropy and as Optimizer SGD."
   ],
   "metadata": {
    "id": "E_bOO2gapGdP"
   }
  },
  {
   "cell_type": "code",
   "source": [
    "from torch.optim.lr_scheduler import ExponentialLR\n",
    "\n",
    "def train(num_epochs):\n",
    "    bot = Bot()\n",
    "    binary_cross_entropy = nn.CrossEntropyLoss()\n",
    "    optimizer = torch.optim.SGD(bot.parameters(), lr=0.01, momentum=0.9)\n",
    "    scheduler = ExponentialLR(optimizer, gamma=0.9)\n",
    "    \n",
    "    for epoch in range(num_epochs):\n",
    "        running_loss = 0.0\n",
    "        for board_sample, current_player, best_move in training:\n",
    "            outputs = bot(board_sample, current_player)\n",
    "            loss = binary_cross_entropy(outputs, best_move)\n",
    "            running_loss += loss\n",
    "            optimizer.zero_grad()\n",
    "            loss.backward()\n",
    "            optimizer.step()\n",
    "            scheduler.step()\n",
    "        print(f\"epoch {epoch} --- loss: {running_loss}\")\n",
    "    print(\"Training completed.\")\n",
    "    return bot\n",
    "\n",
    "def get_accuracy(bot, dataset):\n",
    "    total = 0\n",
    "    correct = 0\n",
    "    for board_sample, current_player, best_move in dataset:\n",
    "        outputs = bot(board_sample, current_player)\n",
    "        predicted_indices = torch.argmax(outputs, dim=1)\n",
    "        labeled_indices = torch.argmax(best_move, dim=1)\n",
    "        total += best_move.size(0)\n",
    "        correct += (predicted_indices == labeled_indices).sum().item()\n",
    "\n",
    "    return 100 * correct / total\n",
    "\n",
    "model = train(NUM_EPOCHS)"
   ],
   "metadata": {
    "colab": {
     "base_uri": "https://localhost:8080/"
    },
    "id": "4C19en_fp0wl",
    "outputId": "5fb9047d-d21c-46f4-d0e2-8ab00dae341d",
    "ExecuteTime": {
     "start_time": "2023-08-10T19:24:17.275302019Z"
    }
   },
   "execution_count": null,
   "outputs": []
  },
  {
   "cell_type": "markdown",
   "source": [
    "## **Testing the model**\n",
    "We give the model the test subset and calculate the accuracy.\n"
   ],
   "metadata": {
    "id": "Z09qSt_JrimV"
   }
  },
  {
   "cell_type": "code",
   "source": [
    "model.eval()  # Set the model to evaluation mode\n",
    "test_acc = get_accuracy(model, testing)\n",
    "print(f\"Accuracy on the test set: {test_acc:.2f}%\")\n",
    "\n",
    "training_acc = get_accuracy(model, training)\n",
    "print(f\"Accuracy on the training set: {training_acc:.2f}%\")"
   ],
   "metadata": {
    "colab": {
     "base_uri": "https://localhost:8080/"
    },
    "id": "654KP70Ur616",
    "outputId": "8d256503-0ffa-4b3f-8d70-1992e723aa38",
    "ExecuteTime": {
     "start_time": "2023-08-10T19:24:17.275482515Z"
    }
   },
   "execution_count": null,
   "outputs": []
  }
 ]
}
